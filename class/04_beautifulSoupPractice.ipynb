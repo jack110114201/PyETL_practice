{
 "cells": [
  {
   "cell_type": "markdown",
   "id": "754e3c45",
   "metadata": {},
   "source": [
    "## findAll() & select"
   ]
  },
  {
   "cell_type": "code",
   "execution_count": 1,
   "id": "ac742a59",
   "metadata": {},
   "outputs": [
    {
     "name": "stdout",
     "output_type": "stream",
     "text": [
      "[<a href=\"/bbs/\" id=\"logo\">批踢踢實業坊</a>]\n",
      "<a href=\"/bbs/\" id=\"logo\">批踢踢實業坊</a>\n",
      "批踢踢實業坊\n",
      "https://www.ptt.cc//bbs/\n",
      "logo\n",
      "[<a class=\"board\" href=\"/bbs/joke/index.html\"><span class=\"board-label\">看板 </span>joke</a>]\n",
      "[<span class=\"board-label\">看板 </span>]\n"
     ]
    }
   ],
   "source": [
    "from bs4 import BeautifulSoup\n",
    "import requests\n",
    "\n",
    "url = 'https://www.ptt.cc/bbs/joke/index.html'\n",
    "\n",
    "\n",
    "userAgent = 'Mozilla/5.0 (Windows NT 10.0; Win64; x64) AppleWebKit/537.36 (KHTML, like Gecko) Chrome/87.0.4280.88 Safari/537.36'\n",
    "\n",
    "headers = {'User-Agent' : userAgent}  \n",
    "\n",
    "res = requests.get(url, headers = headers)\n",
    "\n",
    "# print(res.text)\n",
    "\n",
    "\n",
    "soup = BeautifulSoup(res.text) #放入html 字串\n",
    "#print(soup)\n",
    "\n",
    "# findall\n",
    "logo = soup.findAll('a',{'id': 'logo'})  #寫法1\n",
    "logo = soup.findAll('a',id='logo')      #寫法2\n",
    "\n",
    "#select\n",
    "logo = soup.select('a[id=\"logo\"]')   #寫法1\n",
    "logo = soup.select('a#logo')         #寫法2\n",
    " \n",
    "print(logo)   # [<a href=\"/bbs/\" id=\"logo\">批踢踢實業坊</a>] -> LIST ， 一個標籤物件(結構)\n",
    "\n",
    "print(logo[0]) #<a href=\"/bbs/\" id=\"logo\">批踢踢實業坊</a>\n",
    "\n",
    "print(logo[0].text) #取得文字 #批踢踢實業坊 \n",
    "\n",
    "print('https://www.ptt.cc/' + logo[0]['href']) #https://www.ptt.cc//bbs/\n",
    "\n",
    "print(logo[0]['id']) #logo\n",
    "\n",
    "\n",
    "board = soup.findAll('a', class_='board') #因為class 是 python 的保留字元，為了可以使用，所以在class後面加 _ 符號\n",
    "print(board)\n",
    "\n",
    "span = board[0].select('span')\n",
    "print(span)\n"
   ]
  },
  {
   "cell_type": "code",
   "execution_count": 2,
   "id": "2e4980e8",
   "metadata": {},
   "outputs": [
    {
     "ename": "TypeError",
     "evalue": "'NoneType' object is not callable",
     "output_type": "error",
     "traceback": [
      "\u001b[1;31m---------------------------------------------------------------------------\u001b[0m",
      "\u001b[1;31mTypeError\u001b[0m                                 Traceback (most recent call last)",
      "\u001b[1;32m<ipython-input-2-5e39a09d058f>\u001b[0m in \u001b[0;36m<module>\u001b[1;34m\u001b[0m\n\u001b[1;32m----> 1\u001b[1;33m \u001b[1;32mfor\u001b[0m \u001b[0mi\u001b[0m \u001b[1;32min\u001b[0m \u001b[0msoup\u001b[0m\u001b[1;33m.\u001b[0m\u001b[0mfindALL\u001b[0m\u001b[1;33m(\u001b[0m\u001b[1;34m'a'\u001b[0m\u001b[1;33m)\u001b[0m\u001b[1;33m:\u001b[0m\u001b[1;33m\u001b[0m\u001b[1;33m\u001b[0m\u001b[0m\n\u001b[0m\u001b[0;32m      2\u001b[0m     \u001b[0mprint\u001b[0m\u001b[1;33m(\u001b[0m\u001b[0mi\u001b[0m\u001b[1;33m)\u001b[0m\u001b[1;33m\u001b[0m\u001b[1;33m\u001b[0m\u001b[0m\n\u001b[0;32m      3\u001b[0m     \u001b[0mprint\u001b[0m\u001b[1;33m(\u001b[0m\u001b[1;34m'=============='\u001b[0m\u001b[1;33m)\u001b[0m\u001b[1;33m\u001b[0m\u001b[1;33m\u001b[0m\u001b[0m\n",
      "\u001b[1;31mTypeError\u001b[0m: 'NoneType' object is not callable"
     ]
    }
   ],
   "source": [
    "for i in soup.findALL('a'):\n",
    "    print(i)\n",
    "    print('==============')"
   ]
  }
 ],
 "metadata": {
  "kernelspec": {
   "display_name": "Python 3",
   "language": "python",
   "name": "python3"
  },
  "language_info": {
   "codemirror_mode": {
    "name": "ipython",
    "version": 3
   },
   "file_extension": ".py",
   "mimetype": "text/x-python",
   "name": "python",
   "nbconvert_exporter": "python",
   "pygments_lexer": "ipython3",
   "version": "3.8.8"
  }
 },
 "nbformat": 4,
 "nbformat_minor": 5
}
