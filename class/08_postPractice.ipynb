{
 "cells": [
  {
   "cell_type": "code",
   "execution_count": 2,
   "id": "716c33dc",
   "metadata": {},
   "outputs": [
    {
     "name": "stdout",
     "output_type": "stream",
     "text": [
      "\n",
      "    <!doctype html>\n",
      "    <title>Hello, World!</title>\n",
      "    <h1>Hello, your name is ?</h1>\n",
      "    <p></p>\n",
      "    <form action=\"/hello_post\" method=\"post\">\n",
      "    <label>Name:</label>\n",
      "    <input type=\"textbox\" name=\"username\">\n",
      "    <input type=\"submit\" value=\"Submit\">\n",
      "    </form>\n",
      "    \n",
      "    <h1>Hello 123 !!</h1>\n",
      "    \n"
     ]
    }
   ],
   "source": [
    "import requests\n",
    "from bs4 import BeautifulSoup\n",
    "\n",
    "\n",
    "url = 'http://2280decc246b.ngrok.io/hello_post'\n",
    "\n",
    "userAgent = 'Mozilla/5.0 (Windows NT 10.0; Win64; x64) AppleWebKit/537.36 (KHTML, like Gecko) Chrome/87.0.4280.88 Safari/537.36'\n",
    "\n",
    "headers = {'User-Agent' : userAgent}\n",
    "\n",
    "data = {\n",
    "    'username' : '123'    #username為 post參數名稱\n",
    "}\n",
    "\n",
    "\n",
    "res = requests.post(url,headers=headers,data=data)\n",
    "print(res.text)\n"
   ]
  }
 ],
 "metadata": {
  "kernelspec": {
   "display_name": "Python 3",
   "language": "python",
   "name": "python3"
  },
  "language_info": {
   "codemirror_mode": {
    "name": "ipython",
    "version": 3
   },
   "file_extension": ".py",
   "mimetype": "text/x-python",
   "name": "python",
   "nbconvert_exporter": "python",
   "pygments_lexer": "ipython3",
   "version": "3.8.8"
  }
 },
 "nbformat": 4,
 "nbformat_minor": 5
}
